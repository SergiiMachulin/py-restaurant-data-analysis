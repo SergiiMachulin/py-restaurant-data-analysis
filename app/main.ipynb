{
 "cells": [
  {
   "cell_type": "code",
   "execution_count": null,
   "metadata": {
    "collapsed": true,
    "pycharm": {
     "name": "#%%\n"
    }
   },
   "outputs": [],
   "source": [
    "import pandas as pd\n",
    "import sqlite3\n",
    "from matplotlib import ticker, pyplot as plt\n",
    "from itertools import combinations\n",
    "from collections import Counter"
   ]
  },
  {
   "cell_type": "markdown",
   "source": [
    "# Task 0\n",
    "Data extraction: get the data from 3 tables & combine it into single `.csv` file.\n",
    "After that read this file using pandas to create Dataframe.\n",
    "So it will be all joined data in 1 dataframe. Quick check - should be 74818 rows in it."
   ],
   "metadata": {
    "collapsed": false,
    "pycharm": {
     "name": "#%% md\n"
    }
   }
  },
  {
   "cell_type": "code",
   "execution_count": null,
   "outputs": [],
   "source": [
    "conn = sqlite3.connect(\"../db.sqlite3\")\n",
    "\n",
    "query = \"\"\"\n",
    "    SELECT\n",
    "        restaurant_order.id AS order_id,\n",
    "        restaurant_order.datetime AS order_datetime,\n",
    "        restaurant_orderitem.quantity,\n",
    "        restaurant_product.id AS product_id,\n",
    "        restaurant_product.name AS product_name,\n",
    "        restaurant_product.price AS product_price\n",
    "    FROM main.restaurant_order\n",
    "    JOIN main.restaurant_orderitem ON main.restaurant_order.id = main.restaurant_orderitem.order_id\n",
    "    JOIN main.restaurant_product ON main.restaurant_orderitem.product_id = main.restaurant_product.id\n",
    "\"\"\"\n",
    "\n",
    "results = conn.execute(query).fetchall()\n",
    "\n",
    "df = pd.DataFrame(results, columns=[\"order_id\", \"datetime\", \"quantity\", \"product_id\", \"product_name\", \"price\"])\n",
    "\n",
    "df.to_csv(\"../restaurant_data.csv\", index=False)\n",
    "\n",
    "conn.close()\n",
    "\n",
    "print(f\"Number of rows in the DataFrame: {df.shape[0]}\")\n",
    "\n"
   ],
   "metadata": {
    "collapsed": false
   }
  },
  {
   "cell_type": "markdown",
   "source": [
    "# Task 1\n",
    "Get Top 10 most popular products in restaurant sold by Quantity.\n",
    "Count how many times each product was sold and create a pie chart with percentage of popularity (by quantity) for top 10 of them.\n",
    "\n",
    "Example:\n",
    "\n",
    "![pie chart](../demo/pie.png)"
   ],
   "metadata": {
    "collapsed": false,
    "pycharm": {
     "name": "#%% md\n"
    }
   }
  },
  {
   "cell_type": "code",
   "execution_count": null,
   "outputs": [],
   "source": [
    "product_sales = df.groupby([\"product_name\"]).agg({\"quantity\": \"sum\"})\n",
    "top_products = product_sales.sort_values(\"quantity\", ascending=False).head(10)\n",
    "top_products[\"percentage\"] = top_products[\"quantity\"] / top_products[\"quantity\"].sum() * 100\n",
    "\n",
    "explode = [0.05] * 10\n",
    "fig, ax = plt.subplots(figsize=(10, 10))\n",
    "wedges, texts, autotexts = ax.pie(\n",
    "    top_products[\"quantity\"],\n",
    "    labels=top_products.index,\n",
    "    autopct=lambda pct: f\"{pct:.1f}% ({int(pct/100*top_products['quantity'].sum())})\",\n",
    "    startangle=25,\n",
    "    explode=explode,\n",
    "    wedgeprops={\"linewidth\": 1, \"edgecolor\": \"white\"},\n",
    ")\n",
    "plt.setp(autotexts, size = 10, weight =\"bold\")\n",
    "ax.set_title(\"Top 10 most popular products sold by quantity\").set_size(20)\n",
    "labels = [f\"{idx+1}. {name}\" for idx, name in enumerate(top_products.index)]\n",
    "ax.legend(\n",
    "    wedges,\n",
    "    labels,\n",
    "    title=\"Top 10 sold products\",\n",
    "    loc=\"center left\",\n",
    "    bbox_to_anchor=(1.15, -0.1, 0.5, 0.5)\n",
    ")\n",
    "ax.set_ylabel(\"Quantity\").set_size(15)\n",
    "plt.show()\n"
   ],
   "metadata": {
    "collapsed": false,
    "pycharm": {
     "name": "#%%\n"
    }
   }
  },
  {
   "cell_type": "markdown",
   "source": [
    "# Task 2\n",
    "Calculate `Item Price` (Product Price * Quantity) for each Order Item in dataframe.\n",
    "And Make the same Top 10 pie chart, but this time by `Item Price`. So this chart should describe not the most popular products by quantity, but which products (top 10) make the most money for restaurant. It should be also with percentage."
   ],
   "metadata": {
    "collapsed": false,
    "pycharm": {
     "name": "#%% md\n"
    }
   }
  },
  {
   "cell_type": "code",
   "execution_count": null,
   "outputs": [],
   "source": [
    "df[\"item_price\"] = df[\"price\"] * df[\"quantity\"]\n",
    "\n",
    "product_sales = df.groupby([\"product_name\"]).agg({\"item_price\": \"sum\"})\n",
    "top_products = product_sales.sort_values(\"item_price\", ascending=False).head(10)\n",
    "top_products[\"percentage\"] = top_products[\"item_price\"] / top_products[\"item_price\"].sum() * 100\n",
    "\n",
    "explode = [0.05] * 10\n",
    "fig, ax = plt.subplots(figsize=(10, 10))\n",
    "wedges, texts, autotexts = ax.pie(\n",
    "    top_products[\"item_price\"],\n",
    "    labels=top_products.index,\n",
    "    autopct=lambda pct: f\"{pct:.1f}% (${int(pct/100*top_products['item_price'].sum())})\",\n",
    "    startangle=25,\n",
    "    explode=explode,\n",
    "    wedgeprops={\"linewidth\": 1, \"edgecolor\": \"white\"}\n",
    ")\n",
    "\n",
    "plt.setp(autotexts, size = 9, weight =\"bold\")\n",
    "ax.set_title(\"Top 10 most profitable products by item price\").set_size(20)\n",
    "labels = [f\"{idx+1}. {name}\" for idx, name in enumerate(top_products.index)]\n",
    "ax.legend(wedges, labels, title=\"Top 10 profitable products\", loc=\"center left\", bbox_to_anchor=(1.15, -0.1, 0.5, 0.5))\n",
    "ax.set_ylabel(\"Item Price\").set_size(15)\n",
    "plt.show()\n"
   ],
   "metadata": {
    "collapsed": false,
    "pycharm": {
     "name": "#%%\n",
     "is_executing": true
    }
   }
  },
  {
   "cell_type": "markdown",
   "source": [
    "# Task 3\n",
    "Calculate `Order Hour` based on `Order Datetime`, which will tell about the specific our the order was created (from 0 to 23). Using `Order Hour` create a bar chart, which will tell the total restaurant income based on the hour order was created. So on x-axis - it will be values from 0 to 23 (hours), on y-axis - it will be the total sum of order prices, which were sold on that hour.\n",
    "\n",
    "Example:\n",
    "\n",
    "![bar chart](../demo/bar.png)"
   ],
   "metadata": {
    "collapsed": false,
    "pycharm": {
     "name": "#%% md\n"
    }
   }
  },
  {
   "cell_type": "code",
   "execution_count": null,
   "outputs": [],
   "source": [
    "df[\"datetime\"] = pd.to_datetime(df[\"datetime\"])\n",
    "hourly_sales = df.groupby(df[\"datetime\"].dt.hour)[\"price\"].sum()\n",
    "fig, ax = plt.subplots(figsize=(12, 5))\n",
    "plt.bar(hourly_sales.index, hourly_sales.values, width=0.8)\n",
    "plt.xlabel(\"Order Hour\")\n",
    "plt.title(\"Profit by Order Hour\")\n",
    "plt.xticks(hourly_sales.index)\n",
    "formatter = ticker.FuncFormatter(lambda x, pos: f\"${x/1000:.0f}K\")\n",
    "ax.yaxis.set_major_formatter(formatter)\n",
    "plt.show()\n"
   ],
   "metadata": {
    "collapsed": false,
    "pycharm": {
     "name": "#%%\n"
    }
   }
  },
  {
   "cell_type": "markdown",
   "source": [
    "# Task 4\n",
    "Make similar bar chart, but right now with `Order Day Of The Week` (from Monday to Sunday), and also analyze total restaurant income by each day of the week."
   ],
   "metadata": {
    "collapsed": false,
    "pycharm": {
     "name": "#%% md\n"
    }
   }
  },
  {
   "cell_type": "code",
   "execution_count": null,
   "outputs": [],
   "source": [
    "df[\"datetime\"] = pd.to_datetime(df[\"datetime\"])\n",
    "daily_sales = df.groupby(df[\"datetime\"].dt.dayofweek)[\"price\"].sum()\n",
    "\n",
    "fig, ax = plt.subplots(figsize=(12, 5))\n",
    "plt.bar(daily_sales.index, daily_sales.values, width=0.8)\n",
    "plt.xlabel(\"Order Day Of The Week\")\n",
    "plt.title(\"Profit by Order Day Of The Week\")\n",
    "plt.xticks(daily_sales.index, [\"Monday\", \"Tuesday\", \"Wednesday\", \"Thursday\", \"Friday\", \"Saturday\", \"Sunday\"])\n",
    "formatter = ticker.FuncFormatter(lambda x, pos: f\"${x/1000:.0f}K\")\n",
    "ax.yaxis.set_major_formatter(formatter)\n",
    "plt.show()\n"
   ],
   "metadata": {
    "collapsed": false,
    "pycharm": {
     "name": "#%%\n"
    }
   }
  },
  {
   "cell_type": "markdown",
   "source": [
    "# Personal\n",
    "Get Top 10 most products combinations in restaurant sold by Quantity.\n",
    "\n",
    "\n"
   ],
   "metadata": {
    "collapsed": false
   }
  },
  {
   "cell_type": "code",
   "execution_count": null,
   "outputs": [],
   "source": [
    "order_product_combo = df.groupby(\"order_id\")[\"product_name\"].apply(lambda x: list(combinations(x, 2)))\n",
    "order_product_combo = [tuple(sorted(combo)) for combo_list in order_product_combo for combo in combo_list]\n",
    "\n",
    "combination_counts = Counter(order_product_combo)\n",
    "\n",
    "top_combinations = combination_counts.most_common(10)\n",
    "\n",
    "\n",
    "def autopct_format(pct, total):\n",
    "    absolute = int(round(pct * sum(total) / 100.0))\n",
    "    return f\"{pct:.1f}%\\n({absolute:d})\"\n",
    "\n",
    "\n",
    "labels = [f\"{combo[0][0]} & {combo[0][1]}\" for combo in top_combinations]\n",
    "quantities = [combo[1] for combo in top_combinations]\n",
    "explode = [0.05] * 10\n",
    "\n",
    "fig, ax = plt.subplots(figsize=(10, 10))\n",
    "wedges, texts, autotexts = ax.pie(\n",
    "    quantities,\n",
    "    labels=labels,\n",
    "    autopct=lambda pct: autopct_format(pct, quantities),\n",
    "    explode=explode,\n",
    "    wedgeprops={\"linewidth\": 1, \"edgecolor\": \"white\"}\n",
    ")\n",
    "plt.setp(autotexts, size=12, weight=\"bold\")\n",
    "ax.set_title(\"Top 10 Product Combo sold by Quantity\").set_size(20)\n",
    "labels = [f\"{idx+1}. {name}\" for idx, name in enumerate(labels)]\n",
    "ax.legend(\n",
    "    wedges,\n",
    "    labels,\n",
    "    title=\"Top 10 Product Combo\",\n",
    "    loc=\"center left\",\n",
    "    bbox_to_anchor=(1.15, -0.1, 0.5, 0.5)\n",
    ")\n",
    "ax.set_ylabel(\"Quantity\").set_size(15)\n",
    "plt.show()\n"
   ],
   "metadata": {
    "collapsed": false
   }
  }
 ],
 "metadata": {
  "kernelspec": {
   "display_name": "Python 3",
   "language": "python",
   "name": "python3"
  },
  "language_info": {
   "codemirror_mode": {
    "name": "ipython",
    "version": 2
   },
   "file_extension": ".py",
   "mimetype": "text/x-python",
   "name": "python",
   "nbconvert_exporter": "python",
   "pygments_lexer": "ipython2",
   "version": "2.7.6"
  }
 },
 "nbformat": 4,
 "nbformat_minor": 0
}
